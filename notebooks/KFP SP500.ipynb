{
 "cells": [
  {
   "cell_type": "code",
   "execution_count": 15,
   "metadata": {},
   "outputs": [],
   "source": [
    "import json\n",
    "import kfp\n",
    "import kfp.dsl as dsl\n",
    "import kfp.components as comp\n",
    "from kfp.components import OutputPath"
   ]
  },
  {
   "cell_type": "markdown",
   "metadata": {},
   "source": [
    "#### Pipeline Configurations"
   ]
  },
  {
   "cell_type": "code",
   "execution_count": 16,
   "metadata": {},
   "outputs": [],
   "source": [
    "# replace this value with the value of the KFP host name\n",
    "KFP_HOST_NAME = 'https://XYZ.pipelines.googleusercontent.com/'\n",
    "# change caching policy of KFP run (useful in debug/dev mode)\n",
    "disable_cache = False\n",
    "# year from which to use the financial data\n",
    "year_from = 1990\n",
    "# number of latest days to holdout for validation\n",
    "holdout_days = 30\n",
    "# number of random iterations for random search hyperparameter optimization\n",
    "random_iterations = 3\n",
    "# Number of trees in random forest\n",
    "n_estimators = [150, 250, 300, 400]\n",
    "# Number of features to consider at every split\n",
    "max_features = ['sqrt']\n",
    "# Maximum number of levels in tree\n",
    "max_depth = [5, 10, 25]\n",
    "# Minimum number of samples required to split a node\n",
    "min_samples_split = [2, 3, 5, 10]\n",
    "# Minimum number of samples required at each leaf node\n",
    "min_samples_leaf = [1, 2, 4]\n",
    "# Method of selecting samples for training each tree\n",
    "bootstrap = [True]"
   ]
  },
  {
   "cell_type": "code",
   "execution_count": 17,
   "metadata": {},
   "outputs": [],
   "source": [
    "client = kfp.Client(host=KFP_HOST_NAME)"
   ]
  },
  {
   "cell_type": "markdown",
   "metadata": {},
   "source": [
    "#### Component - Download Raw Data"
   ]
  },
  {
   "cell_type": "code",
   "execution_count": 18,
   "metadata": {},
   "outputs": [],
   "source": [
    "def download_raw_data(raw_data_path: str) -> str:\n",
    "    '''download data from Yahoo Finance'''\n",
    "    import yfinance as yf\n",
    "    sp500_df = yf.download('^GSPC', progress=False)\n",
    "    print('Downloaded data...')\n",
    "    print(sp500_df.head())\n",
    "    print('trying to write to GS')\n",
    "    sp500_df.to_parquet(raw_data_path, compression='GZIP')\n",
    "    print('Done!')\n",
    "    return raw_data_path"
   ]
  },
  {
   "cell_type": "code",
   "execution_count": 19,
   "metadata": {},
   "outputs": [],
   "source": [
    "# create a KFP component\n",
    "download_raw_data_op = comp.create_component_from_func(\n",
    "    download_raw_data, output_component_file='download_raw_data.yaml', packages_to_install=['yfinance', 'fastparquet', 'fsspec', 'gcsfs'])"
   ]
  },
  {
   "cell_type": "markdown",
   "metadata": {},
   "source": [
    "#### Component - Feature Processing"
   ]
  },
  {
   "cell_type": "code",
   "execution_count": 20,
   "metadata": {},
   "outputs": [],
   "source": [
    "def feature_processing(raw_data_path: str, feature_data_path: str, year_from: int) -> str:\n",
    "    '''calculate features for our machine learning model'''\n",
    "    import pandas as pd\n",
    "    from datetime import datetime\n",
    "\n",
    "    # read dataframe\n",
    "    sp500_df = pd.read_parquet(raw_data_path)\n",
    "    \n",
    "    # create empty df to store feature\n",
    "    sp500_feautres_df = pd.DataFrame()\n",
    "    \n",
    "    average_days_window_closing_price = [5, 30, 120, 365]\n",
    "    # average price for window of different days\n",
    "    for window in average_days_window_closing_price:\n",
    "        sp500_feautres_df['Close__rolling_mean__'+str(window)+'_days'] = sp500_df['Close'].rolling(window).mean().shift(periods=1)\n",
    "        sp500_feautres_df['Close__rolling_std__'+str(window)+'_days'] = sp500_df['Close'].rolling(window).std().shift(periods=1)\n",
    "        sp500_feautres_df['Close__rolling_max__'+str(window)+'_days'] = sp500_df['Close'].rolling(window).max().shift(periods=1)\n",
    "        sp500_feautres_df['Close__rolling_min__'+str(window)+'_days'] = sp500_df['Close'].rolling(window).min().shift(periods=1)\n",
    "        sp500_feautres_df['Close__rolling_range__'+str(window)+'_days'] = sp500_feautres_df['Close__rolling_max__'+str(window)+'_days'] - sp500_feautres_df['Close__rolling_min__'+str(window)+'_days']\n",
    "    \n",
    "    average_days_window_volume = [5, 10, 15]\n",
    "    # average price for window of different days\n",
    "    for window in average_days_window_volume:\n",
    "        sp500_feautres_df['Volume__rolling_max__'+str(window)+'_days'] = sp500_df['Close'].rolling(window).max().shift(periods=1)\n",
    "        sp500_feautres_df['Volume__rolling_sum__'+str(window)+'_days'] = sp500_df['Close'].rolling(window).sum().shift(periods=1)\n",
    "        \n",
    "    # get day of the week\n",
    "    sp500_df['day_of_week'] = sp500_df.index.dayofweek\n",
    "    # get quarter\n",
    "    sp500_df['quarter'] = sp500_df.index.quarter\n",
    "    \n",
    "    sp500_feautres_df = pd.concat([sp500_feautres_df, pd.get_dummies(sp500_df['day_of_week'], prefix='day_of_week')], 1)\n",
    "    sp500_feautres_df = pd.concat([sp500_feautres_df, pd.get_dummies(sp500_df['day_of_week'], prefix='quarter')], 1)\n",
    "    \n",
    "    # let's not confuse our model from data from way back\n",
    "    sp500_feautres_df = sp500_feautres_df[sp500_feautres_df.index > datetime(year=1990, month=12, day=31)]\n",
    "    # get label for feature dataset\n",
    "    sp500_timeboxed_feautres_df = pd.merge(sp500_df['Close'], sp500_feautres_df, left_index=True, right_index=True)\n",
    "    # write out to parquet\n",
    "    sp500_timeboxed_feautres_df.to_parquet(feature_data_path, compression='GZIP')\n",
    "    features_numbers = len(sp500_timeboxed_feautres_df.columns) - 1\n",
    "    total_days = len(sp500_timeboxed_feautres_df)\n",
    "    print('Writing %s features for %s days' % (features_numbers, total_days))\n",
    "    print('Done!')\n",
    "    \n",
    "    return feature_data_path"
   ]
  },
  {
   "cell_type": "code",
   "execution_count": 21,
   "metadata": {},
   "outputs": [],
   "source": [
    "# create a KFP component\n",
    "feature_processing_op = comp.create_component_from_func(\n",
    "    feature_processing, output_component_file='feature_processing.yaml', packages_to_install=['fastparquet', 'fsspec', 'gcsfs'])"
   ]
  },
  {
   "cell_type": "markdown",
   "metadata": {},
   "source": [
    "#### Component: Train Vanilla Random Forest Model"
   ]
  },
  {
   "cell_type": "code",
   "execution_count": 22,
   "metadata": {},
   "outputs": [],
   "source": [
    "def train_vanilla_rf(feature_data_path: str, vanilla_model_path: str, holdout_days: int) -> str:\n",
    "    '''train a random forest model with default parameters'''\n",
    "    import pandas as pd\n",
    "    from datetime import datetime, timedelta\n",
    "    import _pickle as cPickle # save ML model\n",
    "    from google.cloud import storage # save the model to GCS\n",
    "    from sklearn.ensemble import RandomForestRegressor\n",
    "    from sklearn.metrics import mean_absolute_error, mean_squared_error\n",
    "    from sklearn.model_selection import train_test_split\n",
    "    from sklearn.model_selection import RandomizedSearchCV\n",
    "    from sklearn.model_selection import GridSearchCV\n",
    "    from urllib.parse import urlparse\n",
    "    \n",
    "    \n",
    "    # read dataframe\n",
    "    sp500_timeboxed_feautres_df = pd.read_parquet(feature_data_path)\n",
    "    \n",
    "    # this will be our training set\n",
    "    sp500_train_df = sp500_timeboxed_feautres_df[sp500_timeboxed_feautres_df.index < (datetime.today() - timedelta(days=holdout_days))]\n",
    "    \n",
    "    # get x and y\n",
    "    x_train, y_train = sp500_train_df.drop('Close', axis=1), sp500_train_df['Close']\n",
    "    # split the data for initial testing\n",
    "    X_train, X_test, Y_train, Y_test = train_test_split(x_train, y_train, test_size=0.2,random_state=786)\n",
    "    \n",
    "    # train the model\n",
    "    print('Training vanilla Random Forest models')\n",
    "    print('Shape of X: %s, %s' % (len(x_train), len(x_train.columns)))\n",
    "    vanilla_rf = RandomForestRegressor()\n",
    "    vanilla_rf.fit(X_train, Y_train)\n",
    "    \n",
    "    # some initial testing\n",
    "    predictions_vanilla_rf = vanilla_rf.predict(X_test)\n",
    "    print('mean absolute error without optimization: %s' % mean_absolute_error(Y_test, predictions_vanilla_rf))\n",
    "    print('mean squared error without optimization is: %s' % mean_squared_error(Y_test, predictions_vanilla_rf)) \n",
    "    \n",
    "    # write out output\n",
    "    # save the model into temp\n",
    "    with open('/tmp/model.pickle', 'wb') as f:\n",
    "        cPickle.dump(vanilla_rf, f, -1)\n",
    "        \n",
    "    # get client and write to GCS\n",
    "    # parse model write path for GS\n",
    "    parse = urlparse(url=vanilla_model_path, allow_fragments=False)\n",
    "    if parse.path[0] =='/':\n",
    "        model_path = parse.path[1:]\n",
    "        \n",
    "    client = storage.Client()\n",
    "    bucket = client.get_bucket(parse.netloc)\n",
    "    blob = bucket.blob(model_path)\n",
    "    blob.upload_from_filename('/tmp/model.pickle')\n",
    "    \n",
    "    return vanilla_model_path"
   ]
  },
  {
   "cell_type": "code",
   "execution_count": 23,
   "metadata": {},
   "outputs": [],
   "source": [
    "# create a KFP component\n",
    "train_vanilla_rf_op = comp.create_component_from_func(\n",
    "    train_vanilla_rf, output_component_file='train_vanilla_rf.yaml', packages_to_install=['scikit-learn', 'fastparquet', 'fsspec', 'gcsfs', 'google-cloud-storage'])"
   ]
  },
  {
   "cell_type": "markdown",
   "metadata": {},
   "source": [
    "#### Componenet: Random Search for Random Forest"
   ]
  },
  {
   "cell_type": "code",
   "execution_count": 24,
   "metadata": {},
   "outputs": [],
   "source": [
    "def hyp_tune_train_rf(feature_data_path: str, tuned_model_path: str,\n",
    "                      holdout_days: int, random_iterations: int, random_params: str) -> str:\n",
    "    '''random search with cross validation to find the best parameters for our random forest'''\n",
    "    import json\n",
    "    import pandas as pd\n",
    "    from datetime import datetime, timedelta\n",
    "    import _pickle as cPickle # save ML model\n",
    "    from google.cloud import storage # save the model to GCS\n",
    "    from sklearn.ensemble import RandomForestRegressor\n",
    "    from sklearn.metrics import mean_absolute_error, mean_squared_error\n",
    "    from sklearn.model_selection import train_test_split\n",
    "    from sklearn.model_selection import RandomizedSearchCV\n",
    "    from sklearn.model_selection import GridSearchCV\n",
    "    from urllib.parse import urlparse\n",
    "    \n",
    "    \n",
    "    # read dataframe\n",
    "    sp500_timeboxed_feautres_df = pd.read_parquet(feature_data_path)\n",
    "    \n",
    "    # this will be our training set\n",
    "    sp500_train_df = sp500_timeboxed_feautres_df[sp500_timeboxed_feautres_df.index < (datetime.today() - timedelta(days=holdout_days))]\n",
    "    \n",
    "    # get x and y\n",
    "    x_train, y_train = sp500_train_df.drop('Close', axis=1), sp500_train_df['Close']\n",
    "    # split the data for initial testing\n",
    "    X_train, X_test, Y_train, Y_test = train_test_split(x_train, y_train, test_size=0.2,random_state=786)\n",
    "    \n",
    "    # create random grid\n",
    "    random_grid = json.loads(random_params)\n",
    "    \n",
    "    # train the model\n",
    "    rf = RandomForestRegressor()\n",
    "    # Random search of parameters, using 3 fold cross validation and search across 100 different combinations\n",
    "    rf_random = RandomizedSearchCV(estimator = rf, param_distributions = random_grid, n_iter = random_iterations, cv = 3, verbose=2, random_state=42, n_jobs = -1)\n",
    "    # Fit the random search model\n",
    "    rf_random.fit(x_train, y_train) # since we will use CV, we don't need to split data to train and test\n",
    "    \n",
    "    # some initial testing\n",
    "    predictions_tuned_rf = rf_random.predict(X_test)\n",
    "    mae_score = mean_absolute_error(Y_test, predictions_tuned_rf)\n",
    "    mse_score = mean_squared_error(Y_test, predictions_tuned_rf)\n",
    "    print('mean absolute error without optimization: %s' % mae_score)\n",
    "    print('mean squared error without optimization is: %s' % mse_score) \n",
    "    \n",
    "    temp_model_path = '/tmp/model.pickle'\n",
    "    \n",
    "    # write out output\n",
    "    # save the model into temp\n",
    "    with open(temp_model_path, 'wb') as f:\n",
    "        cPickle.dump(rf_random.best_estimator_, f, -1)\n",
    "        \n",
    "    # get client and write to GCS\n",
    "    # parse model write path for GS\n",
    "    parse = urlparse(url=tuned_model_path, allow_fragments=False)\n",
    "    \n",
    "    if parse.path[0] =='/':\n",
    "        model_path = parse.path[1:]\n",
    "    client = storage.Client()\n",
    "    bucket = client.get_bucket(parse.netloc)\n",
    "    model = bucket.blob(model_path)\n",
    "    model.upload_from_filename(temp_model_path)\n",
    "    \n",
    "    return tuned_model_path"
   ]
  },
  {
   "cell_type": "code",
   "execution_count": 25,
   "metadata": {},
   "outputs": [],
   "source": [
    "# create a KFP component\n",
    "hyp_tune_train_rf_op = comp.create_component_from_func(\n",
    "    hyp_tune_train_rf, output_component_file='hyp_tune_train_rf.yaml', packages_to_install=['scikit-learn', 'fastparquet', 'fsspec', 'gcsfs', 'google-cloud-storage'])"
   ]
  },
  {
   "cell_type": "markdown",
   "metadata": {},
   "source": [
    "#### Component: Evaluate The Models"
   ]
  },
  {
   "cell_type": "code",
   "execution_count": 26,
   "metadata": {},
   "outputs": [],
   "source": [
    "def eval_models(feature_data_path: str, vanilla_model_path, tuned_model_path: str, holdout_days: int) -> None:\n",
    "    '''Evaluate different models on holdout dataset to see which model performs the best'''\n",
    "    import json\n",
    "    import pandas as pd\n",
    "    from io import BytesIO\n",
    "    from datetime import datetime, timedelta\n",
    "    import _pickle as cPickle # save ML model\n",
    "    from google.cloud import storage # save the model to GCS\n",
    "    from sklearn.ensemble import RandomForestRegressor\n",
    "    from sklearn.metrics import mean_absolute_error, mean_squared_error\n",
    "    from sklearn.model_selection import train_test_split\n",
    "    from sklearn.model_selection import RandomizedSearchCV\n",
    "    from sklearn.model_selection import GridSearchCV\n",
    "    from urllib.parse import urlparse\n",
    "    from collections import namedtuple\n",
    "    \n",
    "    # read dataframe\n",
    "    sp500_timeboxed_feautres_df = pd.read_parquet(feature_data_path)\n",
    "    \n",
    "    # this will be our training set\n",
    "    sp500_holdout_df = sp500_timeboxed_feautres_df[sp500_timeboxed_feautres_df.index > (datetime.today() - timedelta(days=holdout_days))]\n",
    "    \n",
    "    # get x and y\n",
    "    x_val, y_val = sp500_holdout_df.drop('Close', axis=1), sp500_holdout_df['Close']\n",
    "    \n",
    "    def get_mae(model_path):\n",
    "        '''this function evaluates a model on our holdout dataset given just the model path'''\n",
    "        parse = urlparse(url=model_path, allow_fragments=False)\n",
    "\n",
    "        if parse.path[0] =='/':\n",
    "            model_path = parse.path[1:]\n",
    "\n",
    "        client = storage.Client()\n",
    "        bucket = client.get_bucket(parse.netloc)\n",
    "        blob = bucket.get_blob(model_path)\n",
    "        if blob is None:\n",
    "            raise AttributeError('No files to download') \n",
    "        model_bytestream = BytesIO(blob.download_as_string())\n",
    "        model = cPickle.load(model_bytestream)\n",
    "        predictions = model.predict(x_val)\n",
    "        return mean_absolute_error(y_val, predictions)\n",
    "    \n",
    "    Models = namedtuple('Model', 'type score path')\n",
    "    m_list = list()\n",
    "    \n",
    "    vanilla_mae = get_mae(vanilla_model_path)\n",
    "    m_list.append(Models('vanilla', vanilla_mae, vanilla_model_path))\n",
    "    \n",
    "    tuned_mae = get_mae(tuned_model_path)\n",
    "    m_list.append(Models('tuned', tuned_mae, tuned_model_path))\n",
    "    \n",
    "    max_score = max([model.score for model in m_list])\n",
    "    max_score_index = [model.score for model in m_list].index(max_score)\n",
    "    print('Best Model: ', m_list[max_score_index])\n",
    "    path = m_list[max_score_index].path\n",
    "    return path"
   ]
  },
  {
   "cell_type": "code",
   "execution_count": 27,
   "metadata": {},
   "outputs": [],
   "source": [
    "# create a KFP component\n",
    "eval_models_op = comp.create_component_from_func(\n",
    "    eval_models, output_component_file='eval_models.yaml', packages_to_install=['scikit-learn', 'fastparquet', 'fsspec', 'gcsfs', 'google-cloud-storage'])"
   ]
  },
  {
   "cell_type": "markdown",
   "metadata": {},
   "source": [
    "#### Create & Run KubeFlow Pipeline With Python SDK"
   ]
  },
  {
   "cell_type": "code",
   "execution_count": 28,
   "metadata": {},
   "outputs": [
    {
     "data": {
      "text/html": [
       "<a href=\"https://1fd335d21193c3a4-dot-us-central2.pipelines.googleusercontent.com//#/experiments/details/86306210-5b47-4df9-989c-19b3d13465a3\" target=\"_blank\" >Experiment details</a>."
      ],
      "text/plain": [
       "<IPython.core.display.HTML object>"
      ]
     },
     "metadata": {},
     "output_type": "display_data"
    },
    {
     "data": {
      "text/html": [
       "<a href=\"https://1fd335d21193c3a4-dot-us-central2.pipelines.googleusercontent.com//#/runs/details/5d1c5816-857d-45fe-87b2-df7f4704b92f\" target=\"_blank\" >Run details</a>."
      ],
      "text/plain": [
       "<IPython.core.display.HTML object>"
      ]
     },
     "metadata": {},
     "output_type": "display_data"
    },
    {
     "data": {
      "text/plain": [
       "RunPipelineResult(run_id=5d1c5816-857d-45fe-87b2-df7f4704b92f)"
      ]
     },
     "execution_count": 28,
     "metadata": {},
     "output_type": "execute_result"
    }
   ],
   "source": [
    "@dsl.pipeline(\n",
    "  name='SP500 Random Forest',\n",
    "  description='Predicting closing value of SP500 with Random Forest'\n",
    ")\n",
    "def sp500_pipeline(raw_data_path, feature_data_path, vanilla_model_path, tuned_model_path, \n",
    "                   year_from, holdout_days, random_iterations, random_params, disable_cache):\n",
    "\n",
    "  download_raw_data_task = download_raw_data_op(raw_data_path)\n",
    "  feature_processing_task = feature_processing_op(download_raw_data_task.output, feature_data_path, year_from)\n",
    "  train_vanilla_rf_task = train_vanilla_rf_op(feature_processing_task.output, vanilla_model_path, holdout_days)\n",
    "  hyp_tune_train_rf_task = hyp_tune_train_rf_op(feature_processing_task.output, tuned_model_path, holdout_days, random_iterations, random_params)\n",
    "  eval_models_task = eval_models_op(feature_processing_task.output, train_vanilla_rf_task.output, hyp_tune_train_rf_task.output, holdout_days)\n",
    "\n",
    "  if disable_cache:\n",
    "      download_raw_data_task.execution_options.caching_strategy.max_cache_staleness = \"P0D\"\n",
    "      feature_processing_task.execution_options.caching_strategy.max_cache_staleness = \"P0D\"\n",
    "      train_vanilla_rf_task.execution_options.caching_strategy.max_cache_staleness = \"P0D\"\n",
    "      hyp_tune_train_rf_task.execution_options.caching_strategy.max_cache_staleness = \"P0D\"\n",
    "      eval_models_task.execution_options.caching_strategy.max_cache_staleness = \"P0D\"\n",
    "    \n",
    "# Create the json string of random grid\n",
    "random_grid = json.dumps({'n_estimators': n_estimators,\n",
    "                           'max_features': max_features,\n",
    "                           'max_depth': max_depth,\n",
    "                           'min_samples_split': min_samples_split,\n",
    "                           'min_samples_leaf': min_samples_leaf,\n",
    "                           'bootstrap': bootstrap})\n",
    "    \n",
    "# Specify argument values for pipeline run.\n",
    "arguments = {'raw_data_path': 'gs://mlops-stock-prediction/raw/sp500.parquet',\n",
    "            'feature_data_path': 'gs://mlops-stock-prediction/feature_store/sp500_features.parquet',\n",
    "            'vanilla_model_path': 'gs://mlops-stock-prediction/model_store/vanilla/vanilla_rf.pickle',\n",
    "            'tuned_model_path': 'gs://mlops-stock-prediction/model_store/tuned/tuned_rf.pickle',\n",
    "            'year_from': year_from,\n",
    "            'holdout_days': holdout_days,\n",
    "            'random_iterations': random_iterations,\n",
    "            'random_params': random_grid,\n",
    "            'disable_cache': disable_cache,\n",
    "            }\n",
    "    \n",
    "# Create a pipeline run, using the client you initialized in a prior step.\n",
    "client.create_run_from_pipeline_func(sp500_pipeline, arguments=arguments)"
   ]
  }
 ],
 "metadata": {
  "environment": {
   "name": "common-cpu.m59",
   "type": "gcloud",
   "uri": "gcr.io/deeplearning-platform-release/base-cpu:m59"
  },
  "kernelspec": {
   "display_name": "Python 3",
   "language": "python",
   "name": "python3"
  },
  "language_info": {
   "codemirror_mode": {
    "name": "ipython",
    "version": 3
   },
   "file_extension": ".py",
   "mimetype": "text/x-python",
   "name": "python",
   "nbconvert_exporter": "python",
   "pygments_lexer": "ipython3",
   "version": "3.7.8"
  }
 },
 "nbformat": 4,
 "nbformat_minor": 4
}
