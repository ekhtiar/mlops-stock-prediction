{
 "cells": [
  {
   "cell_type": "code",
   "execution_count": 16,
   "metadata": {},
   "outputs": [],
   "source": [
    "import kfp\n",
    "import kfp.dsl as dsl\n",
    "import kfp.components as comp"
   ]
  },
  {
   "cell_type": "code",
   "execution_count": 17,
   "metadata": {},
   "outputs": [],
   "source": [
    "client = kfp.Client(host='https://3bfdcd9631f1c32f-dot-us-central2.pipelines.googleusercontent.com')"
   ]
  },
  {
   "cell_type": "code",
   "execution_count": 18,
   "metadata": {},
   "outputs": [],
   "source": [
    "def download_raw_data(raw_data_path: str) -> str:\n",
    "    '''Download data from Yahoo Finance'''\n",
    "    import yfinance as yf\n",
    "    sp500_df = yf.download('^GSPC', progress=False)\n",
    "    print('Downloaded data...')\n",
    "    print(sp500_df.head())\n",
    "    print('trying to write to GS')\n",
    "    sp500_df.to_parquet(raw_data_path, compression='GZIP')\n",
    "    print('Done!')\n",
    "    return raw_data_path"
   ]
  },
  {
   "cell_type": "code",
   "execution_count": 19,
   "metadata": {},
   "outputs": [],
   "source": [
    "download_raw_data_op = comp.create_component_from_func(\n",
    "    download_raw_data, output_component_file='download_raw_data.yaml', packages_to_install=['yfinance', 'fastparquet', 'fsspec', 'gcsfs'])"
   ]
  },
  {
   "cell_type": "code",
   "execution_count": 20,
   "metadata": {},
   "outputs": [],
   "source": [
    "def feature_processing(raw_data_path: str, feature_data_path: str) -> None:\n",
    "    '''Calculates sum of two arguments'''\n",
    "    import pandas as pd\n",
    "    \n",
    "    # read dataframe\n",
    "    sp500_df = pd.read_parquet(raw_data_path)\n",
    "    \n",
    "    # create empty df to store feature\n",
    "    sp500_feautres_df = pd.DataFrame()\n",
    "    \n",
    "    average_days_window_closing_price = [5, 30, 120, 365]\n",
    "    # average price for window of different days\n",
    "    for window in average_days_window_closing_price:\n",
    "        sp500_feautres_df['Close__rolling_mean__'+str(window)+'_days'] = sp500_df['Close'].rolling(window).mean().shift(periods=1)\n",
    "        sp500_feautres_df['Close__rolling_std__'+str(window)+'_days'] = sp500_df['Close'].rolling(window).std().shift(periods=1)\n",
    "        sp500_feautres_df['Close__rolling_max__'+str(window)+'_days'] = sp500_df['Close'].rolling(window).max().shift(periods=1)\n",
    "        sp500_feautres_df['Close__rolling_min__'+str(window)+'_days'] = sp500_df['Close'].rolling(window).min().shift(periods=1)\n",
    "        sp500_feautres_df['Close__rolling_range__'+str(window)+'_days'] = sp500_feautres_df['Close__rolling_max__'+str(window)+'_days'] - sp500_feautres_df['Close__rolling_min__'+str(window)+'_days']\n",
    "    \n",
    "    average_days_window_volume = [5, 10, 15]\n",
    "    # average price for window of different days\n",
    "    for window in average_days_window_volume:\n",
    "        sp500_feautres_df['Volume__rolling_max__'+str(window)+'_days'] = sp500_df['Close'].rolling(window).max().shift(periods=1)\n",
    "        sp500_feautres_df['Volume__rolling_sum__'+str(window)+'_days'] = sp500_df['Close'].rolling(window).sum().shift(periods=1)\n",
    "        \n",
    "    # get day of the week\n",
    "    sp500_df['day_of_week'] = sp500_df.index.dayofweek\n",
    "    # get quarter\n",
    "    sp500_df['quarter'] = sp500_df.index.quarter\n",
    "    \n",
    "    sp500_feautres_df = pd.concat([sp500_feautres_df, pd.get_dummies(sp500_df['day_of_week'], prefix='day_of_week')], 1)\n",
    "    sp500_feautres_df = pd.concat([sp500_feautres_df, pd.get_dummies(sp500_df['day_of_week'], prefix='quarter')], 1)\n",
    "    \n",
    "    sp500_feautres_df.to_parquet(feature_data_path, compression='GZIP')\n",
    "    print('Done!')"
   ]
  },
  {
   "cell_type": "code",
   "execution_count": 21,
   "metadata": {},
   "outputs": [],
   "source": [
    "feature_processing_op = comp.create_component_from_func(\n",
    "    feature_processing, output_component_file='feature_processing.yaml', packages_to_install=['fastparquet', 'fsspec', 'gcsfs'])"
   ]
  },
  {
   "cell_type": "code",
   "execution_count": 22,
   "metadata": {},
   "outputs": [
    {
     "data": {
      "text/html": [
       "<a href=\"https://3bfdcd9631f1c32f-dot-us-central2.pipelines.googleusercontent.com/#/experiments/details/271a1b43-8a70-4781-b5e8-0403347ab412\" target=\"_blank\" >Experiment details</a>."
      ],
      "text/plain": [
       "<IPython.core.display.HTML object>"
      ]
     },
     "metadata": {},
     "output_type": "display_data"
    },
    {
     "data": {
      "text/html": [
       "<a href=\"https://3bfdcd9631f1c32f-dot-us-central2.pipelines.googleusercontent.com/#/runs/details/6d9b4fa1-458a-49bb-bd7a-c68b787401c9\" target=\"_blank\" >Run details</a>."
      ],
      "text/plain": [
       "<IPython.core.display.HTML object>"
      ]
     },
     "metadata": {},
     "output_type": "display_data"
    },
    {
     "data": {
      "text/plain": [
       "RunPipelineResult(run_id=6d9b4fa1-458a-49bb-bd7a-c68b787401c9)"
      ]
     },
     "execution_count": 22,
     "metadata": {},
     "output_type": "execute_result"
    }
   ],
   "source": [
    "@dsl.pipeline(\n",
    "  name='SP500 Random Forest',\n",
    "  description='Predicting closing value of SP500 with Random Forest'\n",
    ")\n",
    "def sp500_pipeline(raw_data_path, feature_data_path):\n",
    "  download_raw_data_task = download_raw_data_op(raw_data_path)\n",
    "  feature_processing_task = feature_processing_op(download_raw_data_task.output, feature_data_path)\n",
    "    \n",
    "# Specify argument values for your pipeline run.\n",
    "arguments = {'raw_data_path': 'gs://mlops-stock-prediction/raw/sp500.parquet',\n",
    "            'feature_data_path': 'gs://mlops-stock-prediction/feature_store/sp500_features.parquet'}\n",
    "    \n",
    "# Create a pipeline run, using the client you initialized in a prior step.\n",
    "client.create_run_from_pipeline_func(sp500_pipeline, arguments=arguments)"
   ]
  },
  {
   "cell_type": "code",
   "execution_count": null,
   "metadata": {},
   "outputs": [],
   "source": []
  }
 ],
 "metadata": {
  "environment": {
   "name": "common-cpu.m59",
   "type": "gcloud",
   "uri": "gcr.io/deeplearning-platform-release/base-cpu:m59"
  },
  "kernelspec": {
   "display_name": "Python 3",
   "language": "python",
   "name": "python3"
  },
  "language_info": {
   "codemirror_mode": {
    "name": "ipython",
    "version": 3
   },
   "file_extension": ".py",
   "mimetype": "text/x-python",
   "name": "python",
   "nbconvert_exporter": "python",
   "pygments_lexer": "ipython3",
   "version": "3.7.8"
  }
 },
 "nbformat": 4,
 "nbformat_minor": 4
}
