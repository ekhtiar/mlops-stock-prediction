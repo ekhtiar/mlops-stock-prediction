{
 "cells": [
  {
   "cell_type": "markdown",
   "metadata": {},
   "source": [
    "### Introduction\n",
    "\n",
    "In this assignment, we will build an end to end machine learning pipeline to predict if S&P 500 is likely to move up or down. But first of all, what is S&P500? S&P500 or simply S&P is a \"stock market index\". A stock market index is designed to replicate the performance of the entire stock market. S&P500, consists of 500 large companies listed on stock exchanges in US; and it is the most commonly followed index globally. You can read more about S&P500 [on this link](https://www.thebalance.com/what-is-the-sandp-500-3305888)."
   ]
  },
  {
   "cell_type": "code",
   "execution_count": 1,
   "metadata": {},
   "outputs": [],
   "source": [
    "import yfinance as yf #getting the latest data from Yahoo Finance\n",
    "from matplotlib import pyplot as plt # for visualization\n",
    "from datetime import datetime, timedelta # handle datetime\n",
    "import pandas as pd\n",
    "import numpy as np\n",
    "import json\n",
    "from pprint import pprint\n",
    "# machine learning with sklearn\n",
    "from sklearn.ensemble import RandomForestRegressor\n",
    "from sklearn.metrics import mean_absolute_error, mean_squared_error\n",
    "from sklearn.model_selection import train_test_split\n",
    "from sklearn.model_selection import RandomizedSearchCV\n",
    "from sklearn.model_selection import GridSearchCV\n",
    "import _pickle as cPickle # save ML model\n",
    "from google.cloud import storage # save the model to GCS"
   ]
  },
  {
   "cell_type": "markdown",
   "metadata": {},
   "source": [
    "### Data Explanation"
   ]
  },
  {
   "cell_type": "code",
   "execution_count": 2,
   "metadata": {},
   "outputs": [],
   "source": [
    "# data path\n",
    "raw_data_path = \"gs://mlops-stock-prediction/raw/\"\n",
    "feature_data_path = \"gs://mlops-stock-prediction/feature_store/\"\n",
    "model_path = \"model_repository/\"\n",
    "tmp_dir = '/tmp/'\n",
    "# download data\n",
    "sp500_df = yf.download('^GSPC', progress=False)\n",
    "# persist data\n",
    "sp500_df.to_parquet(raw_data_path + 'sp500.parquet', compression='GZIP')"
   ]
  },
  {
   "cell_type": "code",
   "execution_count": 3,
   "metadata": {},
   "outputs": [
    {
     "data": {
      "text/html": [
       "<div>\n",
       "<style scoped>\n",
       "    .dataframe tbody tr th:only-of-type {\n",
       "        vertical-align: middle;\n",
       "    }\n",
       "\n",
       "    .dataframe tbody tr th {\n",
       "        vertical-align: top;\n",
       "    }\n",
       "\n",
       "    .dataframe thead th {\n",
       "        text-align: right;\n",
       "    }\n",
       "</style>\n",
       "<table border=\"1\" class=\"dataframe\">\n",
       "  <thead>\n",
       "    <tr style=\"text-align: right;\">\n",
       "      <th></th>\n",
       "      <th>Open</th>\n",
       "      <th>High</th>\n",
       "      <th>Low</th>\n",
       "      <th>Close</th>\n",
       "      <th>Adj Close</th>\n",
       "      <th>Volume</th>\n",
       "    </tr>\n",
       "    <tr>\n",
       "      <th>Date</th>\n",
       "      <th></th>\n",
       "      <th></th>\n",
       "      <th></th>\n",
       "      <th></th>\n",
       "      <th></th>\n",
       "      <th></th>\n",
       "    </tr>\n",
       "  </thead>\n",
       "  <tbody>\n",
       "    <tr>\n",
       "      <th>1927-12-30</th>\n",
       "      <td>17.660000</td>\n",
       "      <td>17.660000</td>\n",
       "      <td>17.660000</td>\n",
       "      <td>17.660000</td>\n",
       "      <td>17.660000</td>\n",
       "      <td>0</td>\n",
       "    </tr>\n",
       "    <tr>\n",
       "      <th>1928-01-03</th>\n",
       "      <td>17.760000</td>\n",
       "      <td>17.760000</td>\n",
       "      <td>17.760000</td>\n",
       "      <td>17.760000</td>\n",
       "      <td>17.760000</td>\n",
       "      <td>0</td>\n",
       "    </tr>\n",
       "    <tr>\n",
       "      <th>1928-01-04</th>\n",
       "      <td>17.719999</td>\n",
       "      <td>17.719999</td>\n",
       "      <td>17.719999</td>\n",
       "      <td>17.719999</td>\n",
       "      <td>17.719999</td>\n",
       "      <td>0</td>\n",
       "    </tr>\n",
       "    <tr>\n",
       "      <th>1928-01-05</th>\n",
       "      <td>17.549999</td>\n",
       "      <td>17.549999</td>\n",
       "      <td>17.549999</td>\n",
       "      <td>17.549999</td>\n",
       "      <td>17.549999</td>\n",
       "      <td>0</td>\n",
       "    </tr>\n",
       "    <tr>\n",
       "      <th>1928-01-06</th>\n",
       "      <td>17.660000</td>\n",
       "      <td>17.660000</td>\n",
       "      <td>17.660000</td>\n",
       "      <td>17.660000</td>\n",
       "      <td>17.660000</td>\n",
       "      <td>0</td>\n",
       "    </tr>\n",
       "  </tbody>\n",
       "</table>\n",
       "</div>"
      ],
      "text/plain": [
       "                 Open       High        Low      Close  Adj Close  Volume\n",
       "Date                                                                     \n",
       "1927-12-30  17.660000  17.660000  17.660000  17.660000  17.660000       0\n",
       "1928-01-03  17.760000  17.760000  17.760000  17.760000  17.760000       0\n",
       "1928-01-04  17.719999  17.719999  17.719999  17.719999  17.719999       0\n",
       "1928-01-05  17.549999  17.549999  17.549999  17.549999  17.549999       0\n",
       "1928-01-06  17.660000  17.660000  17.660000  17.660000  17.660000       0"
      ]
     },
     "execution_count": 3,
     "metadata": {},
     "output_type": "execute_result"
    }
   ],
   "source": [
    "# let's just explore the data a little bit\n",
    "sp500_df.head()"
   ]
  },
  {
   "cell_type": "code",
   "execution_count": 4,
   "metadata": {},
   "outputs": [
    {
     "data": {
      "text/plain": [
       "Open         0.0\n",
       "High         0.0\n",
       "Low          0.0\n",
       "Close        0.0\n",
       "Adj Close    0.0\n",
       "Volume       0.0\n",
       "dtype: float64"
      ]
     },
     "execution_count": 4,
     "metadata": {},
     "output_type": "execute_result"
    }
   ],
   "source": [
    "# also let's just check for missing data\n",
    "sp500_df[sp500_df['Open']==0].sum()"
   ]
  },
  {
   "cell_type": "markdown",
   "metadata": {},
   "source": [
    "As we can see from the data above, we have the following information:\n",
    "* **Open**      : Price for the opening or start of the day\n",
    "* **High**      : Highest price for that day\n",
    "* **Low**       : Lowest price for that day\n",
    "* **Close**     : Closing price\n",
    "* **Adj Close** : closing price after adjustments for all applicable splits and dividend distributions.\n",
    "* **Volume**    : Numbers of shares exchanging hands that day (buying & selling)\n"
   ]
  },
  {
   "cell_type": "markdown",
   "metadata": {},
   "source": [
    "## Feature Engineering\n",
    "\n",
    "Our ambition is to predict the closing price of the S&P500 for a given date. However, we only have a few features in our data; and machine learning model typically leverages large feature sets and picks the best features for solving the problem. So in this section, we will create more features from our data."
   ]
  },
  {
   "cell_type": "code",
   "execution_count": 5,
   "metadata": {},
   "outputs": [],
   "source": [
    "# create empty df to store feature\n",
    "sp500_feautres_df = pd.DataFrame()"
   ]
  },
  {
   "cell_type": "markdown",
   "metadata": {},
   "source": [
    "#### Closing Price and Window Based Statistics"
   ]
  },
  {
   "cell_type": "code",
   "execution_count": 6,
   "metadata": {},
   "outputs": [],
   "source": [
    "average_days_window_closing_price = [5, 30, 120, 365]"
   ]
  },
  {
   "cell_type": "code",
   "execution_count": 7,
   "metadata": {},
   "outputs": [],
   "source": [
    "# average price for window of different days\n",
    "for window in average_days_window_closing_price:\n",
    "    sp500_feautres_df['Close__rolling_mean__'+str(window)+'_days'] = sp500_df['Close'].rolling(window).mean().shift(periods=1)"
   ]
  },
  {
   "cell_type": "code",
   "execution_count": 8,
   "metadata": {},
   "outputs": [],
   "source": [
    "# standard deviation of price for window of different days\n",
    "for window in average_days_window_closing_price:\n",
    "    sp500_feautres_df['Close__rolling_std__'+str(window)+'_days'] = sp500_df['Close'].rolling(window).std().shift(periods=1)"
   ]
  },
  {
   "cell_type": "code",
   "execution_count": 9,
   "metadata": {},
   "outputs": [],
   "source": [
    "# standard deviation of price for window of different days\n",
    "for window in average_days_window_closing_price:\n",
    "    sp500_feautres_df['Close__rolling_max__'+str(window)+'_days'] = sp500_df['Close'].rolling(window).max().shift(periods=1)"
   ]
  },
  {
   "cell_type": "code",
   "execution_count": 10,
   "metadata": {},
   "outputs": [],
   "source": [
    "# standard deviation of price for window of different days\n",
    "for window in average_days_window_closing_price:\n",
    "    sp500_feautres_df['Close__rolling_min__'+str(window)+'_days'] = sp500_df['Close'].rolling(window).min().shift(periods=1)"
   ]
  },
  {
   "cell_type": "code",
   "execution_count": 11,
   "metadata": {},
   "outputs": [],
   "source": [
    "# get range\n",
    "for window in average_days_window_closing_price:\n",
    "    sp500_feautres_df['Close__rolling_range__'+str(window)+'_days'] = sp500_feautres_df['Close__rolling_max__'+str(window)+'_days'] - sp500_feautres_df['Close__rolling_min__'+str(window)+'_days']"
   ]
  },
  {
   "cell_type": "markdown",
   "metadata": {},
   "source": [
    "#### Share Volume and Window Based Statistics"
   ]
  },
  {
   "cell_type": "code",
   "execution_count": 12,
   "metadata": {},
   "outputs": [],
   "source": [
    "average_days_window_volume = [5, 10, 15]"
   ]
  },
  {
   "cell_type": "code",
   "execution_count": 13,
   "metadata": {},
   "outputs": [],
   "source": [
    "# average price for window of different days\n",
    "for window in average_days_window_volume:\n",
    "    sp500_feautres_df['Volume__rolling_max__'+str(window)+'_days'] = sp500_df['Close'].rolling(window).max().shift(periods=1)"
   ]
  },
  {
   "cell_type": "code",
   "execution_count": 14,
   "metadata": {},
   "outputs": [],
   "source": [
    "# average price for window of different days\n",
    "for window in average_days_window_volume:\n",
    "    sp500_feautres_df['Volume__rolling_sum__'+str(window)+'_days'] = sp500_df['Close'].rolling(window).sum().shift(periods=1)"
   ]
  },
  {
   "cell_type": "markdown",
   "metadata": {},
   "source": [
    "#### Seasonality"
   ]
  },
  {
   "cell_type": "code",
   "execution_count": 15,
   "metadata": {},
   "outputs": [],
   "source": [
    "# get day of the week\n",
    "sp500_df['day_of_week'] = sp500_df.index.dayofweek\n",
    "# get quarter\n",
    "sp500_df['quarter'] = sp500_df.index.quarter"
   ]
  },
  {
   "cell_type": "code",
   "execution_count": 16,
   "metadata": {},
   "outputs": [],
   "source": [
    "sp500_feautres_df = pd.concat([sp500_feautres_df, pd.get_dummies(sp500_df['day_of_week'], prefix='day_of_week')], 1)\n",
    "sp500_feautres_df = pd.concat([sp500_feautres_df, pd.get_dummies(sp500_df['day_of_week'], prefix='quarter')], 1)"
   ]
  },
  {
   "cell_type": "markdown",
   "metadata": {},
   "source": [
    "### Train Random Forest"
   ]
  },
  {
   "cell_type": "code",
   "execution_count": 17,
   "metadata": {},
   "outputs": [],
   "source": [
    "# let's not confuse our model from data from way back\n",
    "sp500_feautres_df = sp500_feautres_df[sp500_feautres_df.index > datetime(year=1990, month=12, day=31)]\n",
    "# get label for feature dataset\n",
    "sp500_final_df = pd.merge(sp500_df['Close'], sp500_feautres_df, left_index=True, right_index=True)\n",
    "# write out to parquet\n",
    "sp500_final_df.to_parquet(feature_data_path + 'sp500_features.parquet', compression='GZIP')"
   ]
  },
  {
   "cell_type": "code",
   "execution_count": 18,
   "metadata": {},
   "outputs": [],
   "source": [
    "# hold out last months data for evaluation\n",
    "sp500_last_month_df = sp500_final_df[sp500_feautres_df.index > (datetime.today() - timedelta(days=30))]\n",
    "# this will be our training set\n",
    "sp500_train_df = sp500_final_df[sp500_feautres_df.index < (datetime.today() - timedelta(days=30))]"
   ]
  },
  {
   "cell_type": "code",
   "execution_count": 19,
   "metadata": {},
   "outputs": [],
   "source": [
    "# get x and y\n",
    "x_train, y_train = sp500_train_df.drop('Close', axis=1), sp500_train_df['Close']"
   ]
  },
  {
   "cell_type": "code",
   "execution_count": 20,
   "metadata": {},
   "outputs": [
    {
     "data": {
      "text/plain": [
       "RandomForestRegressor()"
      ]
     },
     "execution_count": 20,
     "metadata": {},
     "output_type": "execute_result"
    }
   ],
   "source": [
    "rf_non_opt = RandomForestRegressor()\n",
    "rf_non_opt.fit(x_train, y_train)"
   ]
  },
  {
   "cell_type": "code",
   "execution_count": 21,
   "metadata": {},
   "outputs": [],
   "source": [
    "# Number of trees in random forest\n",
    "n_estimators = [150, 250, 300, 400]\n",
    "# Number of features to consider at every split\n",
    "max_features = ['auto', 'sqrt']\n",
    "# Maximum number of levels in tree\n",
    "max_depth = [10, 50, 100, None]\n",
    "# Minimum number of samples required to split a node\n",
    "min_samples_split = [1, 2, 5, 10]\n",
    "# Minimum number of samples required at each leaf node\n",
    "min_samples_leaf = [1, 2, 4]\n",
    "# Method of selecting samples for training each tree\n",
    "bootstrap = [True, False]"
   ]
  },
  {
   "cell_type": "code",
   "execution_count": 22,
   "metadata": {},
   "outputs": [],
   "source": [
    "# Create the random grid\n",
    "random_grid = {'n_estimators': n_estimators,\n",
    "               'max_features': max_features,\n",
    "               'max_depth': max_depth,\n",
    "               'min_samples_split': min_samples_split,\n",
    "               'min_samples_leaf': min_samples_leaf,\n",
    "               'bootstrap': bootstrap}"
   ]
  },
  {
   "cell_type": "code",
   "execution_count": 23,
   "metadata": {},
   "outputs": [
    {
     "name": "stdout",
     "output_type": "stream",
     "text": [
      "Fitting 3 folds for each of 100 candidates, totalling 300 fits\n"
     ]
    },
    {
     "name": "stderr",
     "output_type": "stream",
     "text": [
      "[Parallel(n_jobs=-1)]: Using backend LokyBackend with 8 concurrent workers.\n",
      "[Parallel(n_jobs=-1)]: Done  25 tasks      | elapsed:   18.9s\n",
      "[Parallel(n_jobs=-1)]: Done 146 tasks      | elapsed:  4.3min\n",
      "[Parallel(n_jobs=-1)]: Done 300 out of 300 | elapsed:  9.8min finished\n"
     ]
    },
    {
     "data": {
      "text/plain": [
       "RandomizedSearchCV(cv=3, estimator=RandomForestRegressor(), n_iter=100,\n",
       "                   n_jobs=-1,\n",
       "                   param_distributions={'bootstrap': [True, False],\n",
       "                                        'max_depth': [10, 50, 100, None],\n",
       "                                        'max_features': ['auto', 'sqrt'],\n",
       "                                        'min_samples_leaf': [1, 2, 4],\n",
       "                                        'min_samples_split': [1, 2, 5, 10],\n",
       "                                        'n_estimators': [150, 250, 300, 400]},\n",
       "                   random_state=42, verbose=2)"
      ]
     },
     "execution_count": 23,
     "metadata": {},
     "output_type": "execute_result"
    }
   ],
   "source": [
    "# Use the random grid to search for best hyperparameters\n",
    "# First create the base model to tune\n",
    "rf = RandomForestRegressor()\n",
    "# Random search of parameters, using 3 fold cross validation, \n",
    "# search across 100 different combinations, and use all available cores\n",
    "rf_random = RandomizedSearchCV(estimator = rf, param_distributions = random_grid, n_iter = 100, cv = 3, verbose=2, random_state=42, n_jobs = -1)\n",
    "# Fit the random search model\n",
    "rf_random.fit(x_train, y_train) # since we will use CV, we don't need to split data to train and test"
   ]
  },
  {
   "cell_type": "code",
   "execution_count": 24,
   "metadata": {},
   "outputs": [],
   "source": [
    "# save the best paramas\n",
    "with open('best_param.json', 'w') as outfile:\n",
    "    json.dump(rf_random.best_params_, outfile)"
   ]
  },
  {
   "cell_type": "code",
   "execution_count": 25,
   "metadata": {},
   "outputs": [
    {
     "name": "stdout",
     "output_type": "stream",
     "text": [
      "{'bootstrap': True,\n",
      " 'max_depth': None,\n",
      " 'max_features': 'auto',\n",
      " 'min_samples_leaf': 4,\n",
      " 'min_samples_split': 5,\n",
      " 'n_estimators': 400}\n"
     ]
    }
   ],
   "source": [
    "pprint(rf_random.best_params_)"
   ]
  },
  {
   "cell_type": "markdown",
   "metadata": {},
   "source": [
    "### Evaluating The Two Models"
   ]
  },
  {
   "cell_type": "code",
   "execution_count": 26,
   "metadata": {},
   "outputs": [],
   "source": [
    "x_lm, y_lm = sp500_last_month_df.drop('Close', axis=1), sp500_last_month_df['Close']"
   ]
  },
  {
   "cell_type": "code",
   "execution_count": 27,
   "metadata": {},
   "outputs": [
    {
     "name": "stdout",
     "output_type": "stream",
     "text": [
      "mean absolute error without optimization: 95.37221368963066\n",
      "mean absolute error with optimization: 93.49509717103675\n",
      "mean squared error without optimization is: 13958.054659117199\n",
      "mean squared error with optimization is: 12796.024797080487\n"
     ]
    }
   ],
   "source": [
    "predictions_lm_non_opt = rf_non_opt.predict(x_lm)\n",
    "predictions_lm_random = rf_random.predict(x_lm)\n",
    "print('mean absolute error without optimization: %s' % mean_absolute_error(y_lm, predictions_lm_non_opt))\n",
    "print('mean absolute error with optimization: %s' % mean_absolute_error(y_lm, predictions_lm_random))\n",
    "print('mean squared error without optimization is: %s' % mean_squared_error(y_lm, predictions_lm_non_opt)) \n",
    "print('mean squared error with optimization is: %s' % mean_squared_error(y_lm, predictions_lm_random)) "
   ]
  },
  {
   "cell_type": "code",
   "execution_count": 28,
   "metadata": {},
   "outputs": [],
   "source": [
    "val_df = pd.DataFrame(list(zip(y_lm, predictions_lm_non_opt, predictions_lm_random)))\n",
    "val_df.columns = ['Actual', 'Non Optimized RF', 'Optimized RF']"
   ]
  },
  {
   "cell_type": "code",
   "execution_count": 71,
   "metadata": {},
   "outputs": [],
   "source": [
    "val_df.index = sp500_last_month_df.index"
   ]
  },
  {
   "cell_type": "code",
   "execution_count": 73,
   "metadata": {},
   "outputs": [
    {
     "data": {
      "text/plain": [
       "Text(0.5, 1.0, 'Optimized Random Forest')"
      ]
     },
     "execution_count": 73,
     "metadata": {},
     "output_type": "execute_result"
    },
    {
     "data": {
      "image/png": "[encoded data removed]",
      "text/plain": [
       "<Figure size 1440x504 with 2 Axes>"
      ]
     },
     "metadata": {
      "needs_background": "light"
     },
     "output_type": "display_data"
    }
   ],
   "source": [
    "fig, axs = plt.subplots(1,2, figsize=(20, 7))\n",
    "axs[0].plot(val_df[['Actual', 'Non Optimized RF']])\n",
    "axs[0].set_title('Non Optimized Random Forest')\n",
    "axs[1].plot(val_df[['Actual', 'Optimized RF']])\n",
    "axs[1].set_title('Optimized Random Forest')"
   ]
  },
  {
   "cell_type": "markdown",
   "metadata": {},
   "source": [
    "### Save The Model"
   ]
  },
  {
   "cell_type": "code",
   "execution_count": 30,
   "metadata": {},
   "outputs": [
    {
     "name": "stdout",
     "output_type": "stream",
     "text": [
      "taking the optimized version\n"
     ]
    }
   ],
   "source": [
    "# take the model with the best score\n",
    "if mean_absolute_error(y_lm, predictions_lm_random) < mean_absolute_error(y_lm, predictions_lm_non_opt):\n",
    "    rf_best = rf_random.best_estimator_\n",
    "    print('taking the optimized version')\n",
    "else:\n",
    "    rf_best = rf_non_opt\n",
    "    print('taking the non-optimized version')"
   ]
  },
  {
   "cell_type": "code",
   "execution_count": 31,
   "metadata": {},
   "outputs": [],
   "source": [
    "# save the model into temp\n",
    "with open('/tmp/model.pickle', 'wb') as f:\n",
    "    cPickle.dump(rf_best, f, -1)"
   ]
  },
  {
   "cell_type": "code",
   "execution_count": 32,
   "metadata": {},
   "outputs": [],
   "source": [
    "# get client and write to GCS\n",
    "client = storage.Client()\n",
    "bucket = client.get_bucket('mlops-stock-prediction')\n",
    "blob = bucket.blob(model_path+'model.pickle')\n",
    "blob.upload_from_filename('/tmp/model.pickle')"
   ]
  }
 ],
 "metadata": {
  "environment": {
   "name": "common-cpu.m59",
   "type": "gcloud",
   "uri": "gcr.io/deeplearning-platform-release/base-cpu:m59"
  },
  "kernelspec": {
   "display_name": "Python 3",
   "language": "python",
   "name": "python3"
  },
  "language_info": {
   "codemirror_mode": {
    "name": "ipython",
    "version": 3
   },
   "file_extension": ".py",
   "mimetype": "text/x-python",
   "name": "python",
   "nbconvert_exporter": "python",
   "pygments_lexer": "ipython3",
   "version": "3.7.8"
  }
 },
 "nbformat": 4,
 "nbformat_minor": 4
}
